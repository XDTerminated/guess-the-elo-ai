{
 "cells": [
  {
   "cell_type": "code",
   "execution_count": 12,
   "metadata": {},
   "outputs": [],
   "source": [
    "import requests\n",
    "import aiohttp\n",
    "import asyncio\n",
    "import nest_asyncio\n"
   ]
  },
  {
   "cell_type": "code",
   "execution_count": 13,
   "metadata": {},
   "outputs": [],
   "source": [
    "# Apply the nest_asyncio patch\n",
    "nest_asyncio.apply()\n",
    "\n",
    "# Define the base URL and headers\n",
    "URL = \"https://chess-api.com/v1\"\n",
    "headers = {\"content-type\": \"application/json\"}"
   ]
  },
  {
   "cell_type": "code",
   "execution_count": 24,
   "metadata": {},
   "outputs": [],
   "source": [
    "def get_centi_pawn_evaluation(fen: str) -> float:\n",
    "    \"\"\"\n",
    "    Get the centi pawn evaluation of a given FEN string.\n",
    "\n",
    "    Args:\n",
    "        fen (str): FEN string of the chess position.\n",
    "\n",
    "    Returns:\n",
    "        float: The centi pawn evaluation of the chess position.\n",
    "    \"\"\"\n",
    "    payload = {\"fen\": fen, \"depth\": 18}\n",
    "    response = requests.post(URL, headers=headers, json=payload)\n",
    "\n",
    "    return float(response.json()[\"centipawns\"])"
   ]
  },
  {
   "cell_type": "code",
   "execution_count": 25,
   "metadata": {},
   "outputs": [
    {
     "name": "stdout",
     "output_type": "stream",
     "text": [
      "71.0\n",
      "85.0\n"
     ]
    }
   ],
   "source": [
    "print(get_centi_pawn_evaluation(\"rnbqkb1r/pppppppp/5n2/8/4P3/8/PPPP1PPP/RNBQKBNR w KQkq - 1 2\"))\n",
    "print(get_centi_pawn_evaluation(\"rn1qkb1r/ppp1pppp/3p4/3nP3/3P2b1/5N2/PPP2PPP/RNBQKB1R w KQkq - 2 5\"))"
   ]
  },
  {
   "cell_type": "code",
   "execution_count": 32,
   "metadata": {},
   "outputs": [],
   "source": [
    "async def get_centi_pawn_evaluation(session, fen: str) -> float:\n",
    "    \"\"\"\n",
    "    Asynchronously get the centi pawn evaluation of a given FEN string.\n",
    "\n",
    "    Args:\n",
    "        session (aiohttp.ClientSession): The session object to reuse connections.\n",
    "        fen (str): FEN string of the chess position.\n",
    "\n",
    "    Returns:\n",
    "        float: The centi pawn evaluation of the chess position.\n",
    "    \"\"\"\n",
    "    payload = {\"fen\": fen, \"depth\": 18, \"maxThinkingTime\": 100,}\n",
    "    async with session.post(URL, headers=headers, json=payload) as response:\n",
    "        data = await response.json()\n",
    "        return float(data[\"centipawns\"])"
   ]
  },
  {
   "cell_type": "code",
   "execution_count": 33,
   "metadata": {},
   "outputs": [],
   "source": [
    "async def fetch_all_evaluations(fens: list) -> list:\n",
    "    \"\"\"\n",
    "    Fetch centi pawn evaluations for a list of FEN strings concurrently.\n",
    "\n",
    "    Args:\n",
    "        fens (list): List of FEN strings to evaluate.\n",
    "\n",
    "    Returns:\n",
    "        list: List of centi pawn evaluations.\n",
    "    \"\"\"\n",
    "    async with aiohttp.ClientSession() as session:\n",
    "        tasks = [get_centi_pawn_evaluation(session, fen) for fen in fens]\n",
    "        return await asyncio.gather(*tasks)"
   ]
  },
  {
   "cell_type": "code",
   "execution_count": 34,
   "metadata": {},
   "outputs": [
    {
     "name": "stdout",
     "output_type": "stream",
     "text": [
      "{'text': 'Move e4 → e5 (e5): [0.79]. White is winning. Depth 18.', 'captured': False, 'promotion': False, 'isCapture': False, 'isPromotion': False, 'isCastling': False, 'fen': 'rnbqkb1r/pppppppp/5n2/8/4P3/8/PPPP1PPP/RNBQKBNR w KQkq - 1 2', 'type': 'bestmove', 'depth': 18, 'move': 'e4e5', 'eval': 0.79, 'centipawns': '79', 'mate': None, 'continuationArr': ['f6d5', 'd2d4', 'd7d6', 'c2c4', 'd5b6', 'f2f4', 'd6e5', 'f4e5', 'b8c6', 'c1e3', 'c8f5', 'b1c3', 'e7e6', 'g1f3', 'f8e7', 'f1e2', 'e8g8', 'e1g1', 'f7f6', 'e5f6', 'e7f6', 'd1d2', 'd8e7', 'a1d1', 'a8d8', 'e3f2', 'f5g4'], 'debug': 'info depth 18 seldepth 34 multipv 1 score cp 79 nodes 1276803 nps 35466750 hashfull 29 tbhits 0 time 36 pv e4e5 f6d5 d2d4 d7d6 c2c4 d5b6 f2f4 d6e5 f4e5 b8c6 c1e3 c8f5 b1c3 e7e6 g1f3 f8e7 f1e2 e8g8 e1g1 f7f6 e5f6 e7f6 d1d2 d8e7 a1d1 a8d8 e3f2 f5g4', 'winChance': 57.22126153120401, 'taskId': 'nz00cl7dp', 'turn': 'w', 'color': 'w', 'piece': 'p', 'from': 'e4', 'to': 'e5', 'san': 'e5', 'flags': 'n', 'lan': 'e4e5', 'fromNumeric': '54', 'toNumeric': '55', 'continuation': [{'from': 'f6', 'to': 'd5', 'fromNumeric': '66', 'toNumeric': '45'}, {'from': 'd2', 'to': 'd4', 'fromNumeric': '42', 'toNumeric': '44'}]}\n",
      "{'text': 'Move e5 → d6 (exd6): [0.95]. White is winning. Depth 18.', 'captured': 'p', 'promotion': False, 'isCapture': True, 'isPromotion': False, 'isCastling': False, 'fen': 'rn1qkb1r/ppp1pppp/3p4/3nP3/3P2b1/5N2/PPP2PPP/RNBQKB1R w KQkq - 2 5', 'type': 'bestmove', 'depth': 18, 'move': 'e5d6', 'eval': 0.95, 'centipawns': '95', 'mate': None, 'continuationArr': ['c7d6', 'c2c4', 'd5b6', 'h2h3', 'g4f3', 'd1f3', 'e7e5', 'd4e5', 'b8c6', 'e5e6', 'f7e6', 'b1c3', 'f8e7', 'f3h5', 'g7g6', 'h5g4', 'd8d7', 'f1e2', 'e8g8', 'e1g1', 'c6e5', 'g4g3', 'e5c4', 'a2a4', 'd6d5', 'a4a5', 'e7d6', 'g3h4', 'd6e7', 'h4h6'], 'debug': 'info depth 18 seldepth 33 multipv 1 score cp 95 nodes 2505538 nps 32122282 hashfull 29 tbhits 0 time 78 pv e5d6 c7d6 c2c4 d5b6 h2h3 g4f3 d1f3 e7e5 d4e5 b8c6 e5e6 f7e6 b1c3 f8e7 f3h5 g7g6 h5g4 d8d7 f1e2 e8g8 e1g1 c6e5 g4g3 e5c4 a2a4 d6d5 a4a5 e7d6 g3h4 d6e7 h4h6', 'winChance': 58.65684965842631, 'taskId': 'mk020npzn', 'turn': 'w', 'color': 'w', 'piece': 'p', 'from': 'e5', 'to': 'd6', 'san': 'exd6', 'flags': 'c', 'lan': 'e5d6', 'fromNumeric': '55', 'toNumeric': '46', 'continuation': [{'from': 'c7', 'to': 'd6', 'fromNumeric': '37', 'toNumeric': '46'}, {'from': 'c2', 'to': 'c4', 'fromNumeric': '32', 'toNumeric': '34'}]}\n",
      "[79.0, 95.0]\n"
     ]
    }
   ],
   "source": [
    "fens = [\n",
    "        \"rnbqkb1r/pppppppp/5n2/8/4P3/8/PPPP1PPP/RNBQKBNR w KQkq - 1 2\",\n",
    "        \"rn1qkb1r/ppp1pppp/3p4/3nP3/3P2b1/5N2/PPP2PPP/RNBQKB1R w KQkq - 2 5\"\n",
    "    ]\n",
    "evaluations = asyncio.run(fetch_all_evaluations(fens))  # Or call asyncio.run() directly in a script\n",
    "print(evaluations)"
   ]
  },
  {
   "cell_type": "code",
   "execution_count": null,
   "metadata": {},
   "outputs": [],
   "source": []
  }
 ],
 "metadata": {
  "kernelspec": {
   "display_name": ".venv",
   "language": "python",
   "name": "python3"
  },
  "language_info": {
   "codemirror_mode": {
    "name": "ipython",
    "version": 3
   },
   "file_extension": ".py",
   "mimetype": "text/x-python",
   "name": "python",
   "nbconvert_exporter": "python",
   "pygments_lexer": "ipython3",
   "version": "3.12.7"
  }
 },
 "nbformat": 4,
 "nbformat_minor": 2
}
